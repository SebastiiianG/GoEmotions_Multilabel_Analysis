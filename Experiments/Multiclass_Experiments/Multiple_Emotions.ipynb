{
 "cells": [
  {
   "cell_type": "code",
   "execution_count": null,
   "id": "cdccbec3",
   "metadata": {},
   "outputs": [],
   "source": [
    "#El objetivo de este experimento es tomar los registros que tienen solo una categoría de emoción y usarlos como datos de entrenamiento para un clasificador de sentimientos.\n",
    "#Los registros que tienen más de una categoría se utilizarán para el testing y que así se determine una emoción dominante.\n",
    "\n",
    "import pandas as pd\n",
    "from sklearn.feature_extraction.text import TfidfVectorizer\n",
    "from sklearn.linear_model import LogisticRegression\n",
    "from sklearn.svm import SVC\n",
    "from sklearn.tree import DecisionTreeClassifier\n",
    "from sklearn.metrics import accuracy_score, classification_report\n",
    "from sklearn.model_selection import train_test_split\n",
    "\n",
    "\n",
    "#Carga de datos\n",
    "train_data = pd.read_csv(\"../../Data/OnlyOneEmotion/train_emotions.csv\")\n",
    "test_data = pd.read_csv(\"../../Data/OnlyOneEmotion/test_emotions.csv\")\n",
    "\n",
    "#Llenar los Textos vacíos con un espacio\n",
    "train_data['Text'] = train_data['Text'].fillna(\" \")\n",
    "test_data['Text'] = test_data['Text'].fillna(\" \")\n",
    "\n",
    "#Hacer un split de train_data para obtener un conjunto de validación\n",
    "train, valid = train_test_split(train_data, test_size=0.2, random_state=42)\n",
    "\n",
    "#Vectorizar los textos\n",
    "vectorizer = TfidfVectorizer()\n",
    "X_train = vectorizer.fit_transform(train['Text'])\n",
    "X_valid = vectorizer.transform(valid['Text'])\n",
    "X_test = vectorizer.transform(test_data['Text'])\n",
    "\n",
    "y_train = train['Emotion']\n",
    "y_valid = valid['Emotion']\n",
    "y_test = test_data['Emotion']\n",
    "\n",
    "# Modelo (ejemplo con SVM)\n",
    "clf = SVC(kernel='linear')\n",
    "clf.fit(X_train, y_train)\n",
    "\n",
    "# Validación\n",
    "y_pred_valid = clf.predict(X_valid)\n",
    "print(\"Validación:\")\n",
    "print(classification_report(y_valid, y_pred_valid, zero_division=0))\n"
   ]
  },
  {
   "cell_type": "code",
   "execution_count": null,
   "id": "80ab0b39",
   "metadata": {},
   "outputs": [],
   "source": [
    "\n",
    "#Contar las emociones en el conjunto de entrenamiento\n",
    "print(train['Emotion'].value_counts())"
   ]
  },
  {
   "cell_type": "code",
   "execution_count": null,
   "id": "28f81762",
   "metadata": {},
   "outputs": [],
   "source": [
    "\n",
    "import matplotlib.pyplot as plt\n",
    "import seaborn as sns\n",
    "from sklearn.metrics import confusion_matrix"
   ]
  }
 ],
 "metadata": {
  "language_info": {
   "name": "python"
  }
 },
 "nbformat": 4,
 "nbformat_minor": 5
}
