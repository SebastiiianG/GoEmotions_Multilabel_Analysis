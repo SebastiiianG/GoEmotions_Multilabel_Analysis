{
 "cells": [
  {
   "cell_type": "code",
   "execution_count": 1,
   "id": "d8bb823d",
   "metadata": {},
   "outputs": [],
   "source": [
    "import pandas as pd\n",
    "import numpy as np\n",
    "from sklearn.neural_network import MLPClassifier\n",
    "from sklearn.feature_extraction.text import TfidfVectorizer\n",
    "from sklearn.multioutput import MultiOutputClassifier\n",
    "from sklearn.metrics import classification_report, accuracy_score\n",
    "import seaborn as sns\n",
    "import matplotlib.pyplot as plt\n",
    "from sklearn.model_selection import train_test_split\n",
    "from sklearn.model_selection import GridSearchCV\n",
    "\n",
    "# CARGA DE DATOS \n",
    "train_data = pd.read_csv(\"../../Data/Chi2/train_2000_chi2.csv\")\n",
    "test_data = pd.read_csv(\"../../Data/test_indexado.csv\")\n",
    "\n",
    "# LLenar los registros vacíos del train\n",
    "train_data['Text'] = train_data['Text'].fillna('')\n",
    "\n",
    "# Definir las clases de emociones\n",
    "emotion_classes = train_data.columns[2:].tolist()"
   ]
  },
  {
   "cell_type": "code",
   "execution_count": 2,
   "id": "3b8a3d93",
   "metadata": {},
   "outputs": [],
   "source": [
    "# TF-IDF VECTORIZACIÓN\n",
    "vectorizer = TfidfVectorizer(lowercase=True, stop_words=\"english\", strip_accents=\"unicode\", max_features=5000)\n",
    "X_train = vectorizer.fit_transform(train_data['Text'].values)\n",
    "X_test = vectorizer.transform(test_data['Text'].values)\n",
    "y_train = np.asarray(train_data[emotion_classes])\n",
    "y_test = np.asarray(test_data[emotion_classes])"
   ]
  },
  {
   "cell_type": "code",
   "execution_count": 3,
   "id": "bbd4a54d",
   "metadata": {},
   "outputs": [],
   "source": [
    "#Spliteo del conjunto de entrenamiento para validación\n",
    "X_train, X_val, y_train, y_val = train_test_split(X_train, y_train, test_size=0.2, random_state=42)\n",
    "\n",
    "\n",
    "# Multilayer Neural Network Classifier para clasificación multi-etiqueta\n",
    "base_model = MLPClassifier(max_iter=1000)\n",
    "mlp_model = MultiOutputClassifier(base_model)\n",
    "mlp_model.fit(X_train, y_train)\n",
    "\n",
    "#Predicción\n",
    "y_pred = mlp_model.predict(X_val)"
   ]
  },
  {
   "cell_type": "code",
   "execution_count": null,
   "id": "89085086",
   "metadata": {},
   "outputs": [
    {
     "name": "stdout",
     "output_type": "stream",
     "text": [
      "\n",
      "Resultados Neural Network Classifier:\n",
      "\n",
      "Accuracy: 0.3671964985026492\n",
      "\n",
      "Reporte de clasificación:\n",
      "                 precision    recall  f1-score   support\n",
      "\n",
      "    admiration       0.66      0.50      0.57       863\n",
      "     amusement       0.73      0.68      0.70       453\n",
      "         anger       0.48      0.24      0.33       323\n",
      "     annoyance       0.35      0.15      0.21       483\n",
      "      approval       0.32      0.12      0.17       577\n",
      "        caring       0.32      0.15      0.21       212\n",
      "     confusion       0.31      0.13      0.18       258\n",
      "     curiosity       0.40      0.10      0.16       460\n",
      "        desire       0.45      0.25      0.32       128\n",
      "disappointment       0.33      0.10      0.15       244\n",
      "   disapproval       0.25      0.10      0.14       383\n",
      "       disgust       0.47      0.30      0.37       156\n",
      " embarrassment       0.67      0.31      0.42        58\n",
      "    excitement       0.42      0.18      0.25       175\n",
      "          fear       0.54      0.32      0.40       116\n",
      "     gratitude       0.91      0.84      0.88       544\n",
      "         grief       0.00      0.00      0.00        14\n",
      "           joy       0.55      0.34      0.42       314\n",
      "          love       0.75      0.62      0.68       437\n",
      "   nervousness       0.37      0.29      0.32        35\n",
      "       neutral       0.56      0.64      0.60      2812\n",
      "      optimism       0.56      0.34      0.42       324\n",
      "         pride       0.20      0.08      0.12        24\n",
      "   realization       0.29      0.11      0.16       223\n",
      "        relief       0.23      0.11      0.15        27\n",
      "       remorse       0.52      0.41      0.46       110\n",
      "       sadness       0.54      0.28      0.36       276\n",
      "      surprise       0.57      0.32      0.41       205\n",
      "\n",
      "     micro avg       0.57      0.42      0.48     10234\n",
      "     macro avg       0.46      0.29      0.34     10234\n",
      "  weighted avg       0.53      0.42      0.45     10234\n",
      "   samples avg       0.45      0.44      0.44     10234\n",
      "\n"
     ]
    }
   ],
   "source": [
    "# EVALUACIÓN\n",
    "\n",
    "print(\"\\nResultados Neural Network Classifier:\\n\")\n",
    "print(\"Accuracy:\", accuracy_score(y_val, y_pred))\n",
    "print(\"\\nReporte de clasificación:\\n\", classification_report(y_val, y_pred, target_names=emotion_classes, zero_division=0))\n"
   ]
  },
  {
   "cell_type": "markdown",
   "id": "05e331af",
   "metadata": {},
   "source": [
    "\n",
    "Tardó 95 minutos en entrenar el modelo.\n",
    "\n",
    "Resultados Neural Network Classifier:\n",
    "\n",
    "Accuracy: 0.3671964985026492\n",
    "\n",
    "Reporte de clasificación:\n",
    "                 precision    recall  f1-score   support\n",
    "\n",
    "    admiration       0.66      0.50      0.57       863\n",
    "     amusement       0.73      0.68      0.70       453\n",
    "         anger       0.48      0.24      0.33       323\n",
    "     annoyance       0.35      0.15      0.21       483\n",
    "      approval       0.32      0.12      0.17       577\n",
    "        caring       0.32      0.15      0.21       212\n",
    "     confusion       0.31      0.13      0.18       258\n",
    "     curiosity       0.40      0.10      0.16       460\n",
    "        desire       0.45      0.25      0.32       128\n",
    "disappointment       0.33      0.10      0.15       244\n",
    "   disapproval       0.25      0.10      0.14       383\n",
    "       disgust       0.47      0.30      0.37       156\n",
    " embarrassment       0.67      0.31      0.42        58\n",
    "    excitement       0.42      0.18      0.25       175\n",
    "          fear       0.54      0.32      0.40       116\n",
    "     gratitude       0.91      0.84      0.88       544\n",
    "         grief       0.00      0.00      0.00        14\n",
    "...\n",
    "     macro avg       0.46      0.29      0.34     10234\n",
    "  weighted avg       0.53      0.42      0.45     10234\n",
    "   samples avg       0.45      0.44      0.44     1023"
   ]
  }
 ],
 "metadata": {
  "kernelspec": {
   "display_name": "base",
   "language": "python",
   "name": "python3"
  },
  "language_info": {
   "codemirror_mode": {
    "name": "ipython",
    "version": 3
   },
   "file_extension": ".py",
   "mimetype": "text/x-python",
   "name": "python",
   "nbconvert_exporter": "python",
   "pygments_lexer": "ipython3",
   "version": "3.12.7"
  }
 },
 "nbformat": 4,
 "nbformat_minor": 5
}
