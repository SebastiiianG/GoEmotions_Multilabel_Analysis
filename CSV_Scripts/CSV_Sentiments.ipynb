{
 "cells": [
  {
   "cell_type": "code",
   "execution_count": 1,
   "id": "ad7e7475",
   "metadata": {},
   "outputs": [
    {
     "name": "stdout",
     "output_type": "stream",
     "text": [
      "\n",
      "CONTEO DE REGISTROS POR CATEGORÍAS DE SENTIMIENTO:\n",
      "Train - Solo una categoría: 40030 | Más de una: 3380\n",
      "Valid - Solo una categoría: 5006 | Más de una: 420\n",
      "Test  - Solo una categoría: 5027 | Más de una: 400\n"
     ]
    }
   ],
   "source": [
    "import pandas as pd\n",
    "\n",
    "# Carga de datos\n",
    "train_data = pd.read_csv(\"../Data/Chi2/train_2000_chi2.csv\")\n",
    "valid_data = pd.read_csv(\"../Data/valid_indexado.csv\")\n",
    "test_data = pd.read_csv(\"../Data/test_indexado.csv\")\n",
    "\n",
    "# Definición de grupos emocionales\n",
    "positive = ['admiration', 'amusement', 'approval', 'caring', 'desire',\n",
    "            'excitement', 'gratitude', 'joy', 'love', 'optimism', \n",
    "            'pride', 'relief']\n",
    "negative = ['anger', 'annoyance', 'disappointment', 'disapproval',\n",
    "            'disgust', 'embarrassment', 'fear', 'grief', 'nervousness',\n",
    "            'remorse', 'sadness']\n",
    "ambiguous = ['confusion', 'curiosity', 'realization', 'surprise']\n",
    "neutral = ['neutral']\n",
    "\n",
    "sentiment_map = {e: \"positive\" for e in positive}\n",
    "sentiment_map.update({e: \"negative\" for e in negative})\n",
    "sentiment_map.update({e: \"ambiguous\" for e in ambiguous})\n",
    "sentiment_map.update({e: \"neutral\" for e in neutral})\n",
    "sentiment_labels = [\"positive\", \"negative\", \"ambiguous\", \"neutral\"]\n",
    "\n",
    "# Determinar categorías de emociones\n",
    "def get_sentiment_emotions(row):\n",
    "    active = set()\n",
    "    for emotion in row.index:\n",
    "        if row[emotion] == 1 and emotion in sentiment_map:\n",
    "            active.add(sentiment_map[emotion])\n",
    "    return list(active)\n",
    "\n",
    "# Aplicar la función a los datos\n",
    "train_data[\"Sentiments\"] = train_data.apply(get_sentiment_emotions, axis=1)\n",
    "valid_data[\"Sentiments\"] = valid_data.apply(get_sentiment_emotions, axis=1)\n",
    "test_data[\"Sentiments\"]  = test_data.apply(get_sentiment_emotions, axis=1)\n",
    "\n",
    "\n",
    "# Función para obtener índices conflictivos\n",
    "def get_conflicting_indices(df):\n",
    "    return [i for i, s in enumerate(df[\"Sentiments\"]) if len(s) > 1]\n",
    "\n",
    "# Aplciar la función para obtener índices conflictivos\n",
    "conflict_train_idx = get_conflicting_indices(train_data)\n",
    "conflict_valid_idx = get_conflicting_indices(valid_data)\n",
    "conflict_test_idx  = get_conflicting_indices(test_data)\n",
    "\n",
    "\n",
    "solo_una_train = len(train_data) - len(conflict_train_idx)\n",
    "solo_una_valid = len(valid_data) - len(conflict_valid_idx)\n",
    "solo_una_test  = len(test_data) - len(conflict_test_idx)\n",
    "\n",
    "\n",
    "print(\"\\nCONTEO DE REGISTROS POR CATEGORÍAS DE SENTIMIENTO:\")\n",
    "print(\"Train - Solo una categoría:\", solo_una_train, \"| Más de una:\", len(conflict_train_idx))\n",
    "print(\"Valid - Solo una categoría:\", solo_una_valid, \"| Más de una:\", len(conflict_valid_idx))\n",
    "print(\"Test  - Solo una categoría:\", solo_una_test,  \"| Más de una:\", len(conflict_test_idx))\n",
    "\n"
   ]
  },
  {
   "cell_type": "code",
   "execution_count": 2,
   "id": "b9856982",
   "metadata": {},
   "outputs": [
    {
     "name": "stdout",
     "output_type": "stream",
     "text": [
      "\n",
      "Archivos guardados correctamente.\n"
     ]
    }
   ],
   "source": [
    "# Eliminar registros conflictivos\n",
    "train_clean = train_data.drop(index=conflict_train_idx).reset_index(drop=True)\n",
    "valid_clean = valid_data.drop(index=conflict_valid_idx).reset_index(drop=True)\n",
    "test_clean  = test_data.drop(index=conflict_test_idx).reset_index(drop=True)\n",
    "\n",
    "\n",
    "#Enumerar etiquetas de sentimientos\n",
    "sentiment_to_id = {label: idx for idx, label in enumerate(sentiment_labels)}\n",
    "# Convertir etiquetas de sentimientos a IDs\n",
    "def categorize_sentiments(row):\n",
    "    for sentiment in row['Sentiments']:\n",
    "        if sentiment in sentiment_to_id:\n",
    "            return sentiment_to_id[sentiment]\n",
    "    return len(sentiment_labels)  # Valor por defecto si algo falla\n",
    "\n",
    "train_data_clean = train_clean.copy()\n",
    "valid_data_clean = valid_clean.copy()\n",
    "test_data_clean  = test_clean.copy()\n",
    "train_data_clean['Sentiment'] = train_data_clean.apply(categorize_sentiments, axis=1)\n",
    "valid_data_clean['Sentiment'] = valid_data_clean.apply(categorize_sentiments, axis=1)\n",
    "test_data_clean['Sentiment']  = test_data_clean.apply(categorize_sentiments, axis=1)\n",
    "\n",
    "# Guardar archivos limpios\n",
    "train_data_clean[[\"Text\", \"Sentiment\", \"ID\"]].to_csv('../Data/BasedOnSentiments/train_sentiments.csv', index=False)\n",
    "valid_data_clean[[\"Text\", \"Sentiment\", \"ID\"]].to_csv('../Data/BasedOnSentiments/valid_sentiments.csv', index=False)\n",
    "test_data_clean[[\"Text\", \"Sentiment\", \"ID\"]].to_csv('../Data/BasedOnSentiments/test_sentiments.csv', index=False)\n",
    "\n",
    "print(\"\\nArchivos guardados correctamente.\")"
   ]
  }
 ],
 "metadata": {
  "kernelspec": {
   "display_name": "base",
   "language": "python",
   "name": "python3"
  },
  "language_info": {
   "codemirror_mode": {
    "name": "ipython",
    "version": 3
   },
   "file_extension": ".py",
   "mimetype": "text/x-python",
   "name": "python",
   "nbconvert_exporter": "python",
   "pygments_lexer": "ipython3",
   "version": "3.12.7"
  }
 },
 "nbformat": 4,
 "nbformat_minor": 5
}
