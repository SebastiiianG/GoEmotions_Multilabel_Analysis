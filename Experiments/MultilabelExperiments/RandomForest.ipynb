{
 "cells": [
  {
   "cell_type": "code",
   "execution_count": 4,
   "id": "32ad0f4a",
   "metadata": {},
   "outputs": [],
   "source": [
    "import pandas as pd\n",
    "import numpy as np\n",
    "from sklearn.feature_extraction.text import TfidfVectorizer\n",
    "from sklearn.ensemble import RandomForestClassifier\n",
    "from sklearn.multioutput import MultiOutputClassifier\n",
    "from sklearn.metrics import classification_report, accuracy_score\n",
    "import seaborn as sns\n",
    "import matplotlib.pyplot as plt\n",
    "from sklearn.model_selection import train_test_split\n",
    "from sklearn.model_selection import GridSearchCV\n",
    "\n",
    "# CARGA DE DATOS \n",
    "train_data = pd.read_csv(\"../../Data/Chi2/train_2000_chi2.csv\")\n",
    "test_data = pd.read_csv(\"../../Data/test_indexado.csv\")\n",
    "\n",
    "# LLenar los registros vacíos del train\n",
    "train_data['Text'] = train_data['Text'].fillna('')\n",
    "\n",
    "# Definir las clases de emociones\n",
    "emotion_classes = train_data.columns[2:].tolist()"
   ]
  },
  {
   "cell_type": "code",
   "execution_count": 5,
   "id": "df837a37",
   "metadata": {},
   "outputs": [],
   "source": [
    "# TF-IDF VECTORIZACIÓN\n",
    "vectorizer = TfidfVectorizer(lowercase=True, stop_words=\"english\", strip_accents=\"unicode\", max_features=5000)\n",
    "X_train = vectorizer.fit_transform(train_data['Text'].values)\n",
    "X_test = vectorizer.transform(test_data['Text'].values)\n",
    "y_train = np.asarray(train_data[emotion_classes])\n",
    "y_test = np.asarray(test_data[emotion_classes])"
   ]
  },
  {
   "cell_type": "code",
   "execution_count": 6,
   "id": "6751bf2b",
   "metadata": {},
   "outputs": [],
   "source": [
    "#Spliteo del conjunto de entrenamiento para validación\n",
    "X_train, X_val, y_train, y_val = train_test_split(X_train, y_train, test_size=0.2, random_state=42)\n",
    "\n",
    "\n",
    "# Random Forest Classifier para clasificación multi-etiqueta\n",
    "base_model = RandomForestClassifier(random_state=42)\n",
    "rf_model = MultiOutputClassifier(base_model)\n",
    "rf_model.fit(X_train, y_train)\n",
    "\n",
    "#Predicción\n",
    "y_pred = rf_model.predict(X_val)"
   ]
  },
  {
   "cell_type": "code",
   "execution_count": null,
   "id": "9eb4a25e",
   "metadata": {},
   "outputs": [],
   "source": [
    "# EVALUACIÓN\n",
    "\n",
    "print(\"\\nResultados Random Forest\")\n",
    "print(\"Accuracy:\", accuracy_score(y_val, y_pred))\n",
    "\n",
    "print(\"\\nReporte de clasificación:\\n\", classification_report(y_val, y_pred, target_names=emotion_classes, zero_division=0))\n"
   ]
  },
  {
   "cell_type": "code",
   "execution_count": null,
   "id": "20ce4ce0",
   "metadata": {},
   "outputs": [],
   "source": [
    "param_grid = {\n",
    "    'estimator__n_estimators': [10, 100, 200, 300],\n",
    "    'estimator__max_depth': [3, 5, 10, 20, None],\n",
    "    'estimator__max_features': [None, 'sqrt', 'log2'],\n",
    "    'estimator__min_samples_leaf': [1, 2, 4],\n",
    "    'estimator__bootstrap': [True, False]\n",
    "}\n",
    "\n",
    "rf_model = MultiOutputClassifier(RandomForestClassifier(random_state=42))\n",
    "grid_search = GridSearchCV(estimator=rf_model, param_grid=param_grid, cv=10, scoring='accuracy', verbose=2, n_jobs=-1)\n",
    "grid_search.fit(X_train, y_train)\n",
    "\n",
    "best_rf= grid_search.best_estimator_\n",
    "\n",
    "print(\"\\nMejores parámetros encontrados:\", grid_search.best_params_)\n",
    "print(\"\\nMejor score de validación:\", grid_search.best_score_)"
   ]
  }
 ],
 "metadata": {
  "kernelspec": {
   "display_name": "base",
   "language": "python",
   "name": "python3"
  },
  "language_info": {
   "codemirror_mode": {
    "name": "ipython",
    "version": 3
   },
   "file_extension": ".py",
   "mimetype": "text/x-python",
   "name": "python",
   "nbconvert_exporter": "python",
   "pygments_lexer": "ipython3",
   "version": "3.12.7"
  }
 },
 "nbformat": 4,
 "nbformat_minor": 5
}
