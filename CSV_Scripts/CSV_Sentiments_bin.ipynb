{
 "cells": [
  {
   "cell_type": "code",
   "execution_count": 1,
   "id": "9a87ee55",
   "metadata": {},
   "outputs": [
    {
     "name": "stdout",
     "output_type": "stream",
     "text": [
      "\n",
      "CONTEO DE REGISTROS POR CATEGORÍAS DE SENTIMIENTO:\n",
      "Train - Solo una categoría: 40030 | Más de una: 3380\n",
      "Valid - Solo una categoría: 5006 | Más de una: 420\n",
      "Test  - Solo una categoría: 5027 | Más de una: 400\n"
     ]
    }
   ],
   "source": [
    "import pandas as pd\n",
    "from sklearn.preprocessing import MultiLabelBinarizer\n",
    "\n",
    "# Carga de datos\n",
    "train_data = pd.read_csv(\"../Data/train_indexado.csv\")\n",
    "valid_data = pd.read_csv(\"../Data/valid_indexado.csv\")\n",
    "test_data = pd.read_csv(\"../Data/test_indexado.csv\")\n",
    "\n",
    "# Definición de grupos emocionales\n",
    "positive = ['admiration', 'amusement', 'approval', 'caring', 'desire',\n",
    "            'excitement', 'gratitude', 'joy', 'love', 'optimism', \n",
    "            'pride', 'relief']\n",
    "negative = ['anger', 'annoyance', 'disappointment', 'disapproval',\n",
    "            'disgust', 'embarrassment', 'fear', 'grief', 'nervousness',\n",
    "            'remorse', 'sadness']\n",
    "ambiguous = ['confusion', 'curiosity', 'realization', 'surprise']\n",
    "neutral = ['neutral']\n",
    "\n",
    "sentiment_map = {e: \"positive\" for e in positive}\n",
    "sentiment_map.update({e: \"negative\" for e in negative})\n",
    "sentiment_map.update({e: \"ambiguous\" for e in ambiguous})\n",
    "sentiment_map.update({e: \"neutral\" for e in neutral})\n",
    "sentiment_labels = [\"positive\", \"negative\", \"ambiguous\", \"neutral\"]\n",
    "\n",
    "# Determinar categorías de emociones\n",
    "def get_sentiment_emotions(row):\n",
    "    active = set()\n",
    "    for emotion in row.index:\n",
    "        if row[emotion] == 1 and emotion in sentiment_map:\n",
    "            active.add(sentiment_map[emotion])\n",
    "    return list(active)\n",
    "\n",
    "# Aplicar la función a los datos\n",
    "train_data[\"Sentiments\"] = train_data.apply(get_sentiment_emotions, axis=1)\n",
    "valid_data[\"Sentiments\"] = valid_data.apply(get_sentiment_emotions, axis=1)\n",
    "test_data[\"Sentiments\"]  = test_data.apply(get_sentiment_emotions, axis=1)\n",
    "\n",
    "\n",
    "# Función para obtener índices conflictivos\n",
    "def get_conflicting_indices(df):\n",
    "    return [i for i, s in enumerate(df[\"Sentiments\"]) if len(s) > 1]\n",
    "\n",
    "# Aplciar la función para obtener índices conflictivos\n",
    "conflict_train_idx = get_conflicting_indices(train_data)\n",
    "conflict_valid_idx = get_conflicting_indices(valid_data)\n",
    "conflict_test_idx  = get_conflicting_indices(test_data)\n",
    "\n",
    "\n",
    "solo_una_train = len(train_data) - len(conflict_train_idx)\n",
    "solo_una_valid = len(valid_data) - len(conflict_valid_idx)\n",
    "solo_una_test  = len(test_data) - len(conflict_test_idx)\n",
    "\n",
    "\n",
    "print(\"\\nCONTEO DE REGISTROS POR CATEGORÍAS DE SENTIMIENTO:\")\n",
    "print(\"Train - Solo una categoría:\", solo_una_train, \"| Más de una:\", len(conflict_train_idx))\n",
    "print(\"Valid - Solo una categoría:\", solo_una_valid, \"| Más de una:\", len(conflict_valid_idx))\n",
    "print(\"Test  - Solo una categoría:\", solo_una_test,  \"| Más de una:\", len(conflict_test_idx))\n"
   ]
  },
  {
   "cell_type": "code",
   "execution_count": 2,
   "id": "f0021310",
   "metadata": {},
   "outputs": [],
   "source": [
    "# Eliminar registros conflictivos\n",
    "train_clean = train_data.drop(index=conflict_train_idx).reset_index(drop=True)\n",
    "valid_clean = valid_data.drop(index=conflict_valid_idx).reset_index(drop=True)\n",
    "test_clean  = test_data.drop(index=conflict_test_idx).reset_index(drop=True)\n",
    "\n",
    "#Binarización de las emociones\n",
    "mlb = MultiLabelBinarizer(classes=sentiment_labels)\n",
    "train_sentiments = pd.DataFrame(mlb.fit_transform(train_clean[\"Sentiments\"]), columns=mlb.classes_)\n",
    "valid_sentiments = pd.DataFrame(mlb.transform(valid_clean[\"Sentiments\"]), columns=mlb.classes_)\n",
    "test_sentiments  = pd.DataFrame(mlb.transform(test_clean[\"Sentiments\"]),  columns=mlb.classes_)\n",
    "\n",
    "\n",
    "# Combinar y guardar\n",
    "train_final = pd.concat([train_clean[[\"Text\", \"ID\"]], train_sentiments], axis=1)\n",
    "valid_final = pd.concat([valid_clean[[\"Text\", \"ID\"]], valid_sentiments], axis=1)\n",
    "test_final  = pd.concat([test_clean[[\"Text\", \"ID\"]], test_sentiments], axis=1)\n",
    "\n",
    "\n",
    "# Guardar los archivos finales\n",
    "train_final.to_csv(\"../Data/BasedOnSentiments/train_sentiments_bin.csv\", index=False)\n",
    "valid_final.to_csv(\"../Data/BasedOnSentiments/valid_sentiments_bin.csv\", index=False)\n",
    "test_final.to_csv(\"../Data/BasedOnSentiments/test_sentiments_bin.csv\", index=False)"
   ]
  }
 ],
 "metadata": {
  "kernelspec": {
   "display_name": "base",
   "language": "python",
   "name": "python3"
  },
  "language_info": {
   "codemirror_mode": {
    "name": "ipython",
    "version": 3
   },
   "file_extension": ".py",
   "mimetype": "text/x-python",
   "name": "python",
   "nbconvert_exporter": "python",
   "pygments_lexer": "ipython3",
   "version": "3.12.7"
  }
 },
 "nbformat": 4,
 "nbformat_minor": 5
}
