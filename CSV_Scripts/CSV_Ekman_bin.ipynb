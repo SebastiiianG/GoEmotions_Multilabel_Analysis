{
 "cells": [
  {
   "cell_type": "code",
   "execution_count": null,
   "id": "b673eba3",
   "metadata": {},
   "outputs": [
    {
     "name": "stdout",
     "output_type": "stream",
     "text": [
      "\n",
      "CONTEO DE REGISTROS EKMAN:\n",
      "Train - Solo una categoría: 39555 | Más de una: 3855\n",
      "Test  - Solo una categoría: 4968 | Más de una: 459\n"
     ]
    }
   ],
   "source": [
    "import pandas as pd\n",
    "import json\n",
    "from sklearn.preprocessing import MultiLabelBinarizer\n",
    "\n",
    "# CARGA DE DATOS\n",
    "train_data = pd.read_csv(\"../Data/train_indexado.csv\")\n",
    "valid_data = pd.read_csv(\"../Data/valid_indexado.csv\")\n",
    "test_data = pd.read_csv(\"../Data/test_indexado.csv\")\n",
    "\n",
    "# CARGA DEL MAPEADO EKMAN\n",
    "with open(\"../Data/GoEmotions/ekman_mapping.json\", \"r\") as f:\n",
    "    ekman_mapping = json.load(f)\n",
    "\n",
    "# Asegurar inclusión de 'neutral'\n",
    "ekman_mapping[\"neutral\"] = [\"neutral\"]\n",
    "reverse_ekman_map = {e: cat for cat, emos in ekman_mapping.items() for e in emos}\n",
    "ekman_labels = list(ekman_mapping.keys())\n",
    "\n",
    "# IDENTIFICAR EMOCIONES ORIGINALES (GoEmotions)\n",
    "emotion_columns = [col for col in train_data.columns if col not in [\"Text\", \"ID\"]]\n",
    "# FUNCIÓN PARA OBTENER EMOCIONES EKMAN POR FILA\n",
    "def get_ekman_emotions(row):\n",
    "    active_ekman = set()\n",
    "    for emo in emotion_columns:\n",
    "        if row[emo] == 1 and emo in reverse_ekman_map:\n",
    "            active_ekman.add(reverse_ekman_map[emo])\n",
    "    return list(active_ekman)\n",
    "\n",
    "# APLICAR FUNCIÓN \n",
    "train_data[\"Ekman\"] = train_data.apply(get_ekman_emotions, axis=1)\n",
    "valid_data[\"Ekman\"] = valid_data.apply(get_ekman_emotions, axis=1)\n",
    "test_data[\"Ekman\"]  = test_data.apply(get_ekman_emotions, axis=1)\n",
    "\n",
    "# FUNCIÓN PARA OBTENER ÍNDICES CONFLICTIVOS\n",
    "def get_conflicting_indices(df):\n",
    "    return [i for i, x in enumerate(df[\"Ekman\"]) if len(x) > 1]\n",
    "\n",
    "# OBTENER Y CONTAR REGISTROS CONFLICTIVOS\n",
    "conflict_train_idx = get_conflicting_indices(train_data)\n",
    "conflict_valid_idx = get_conflicting_indices(valid_data)\n",
    "conflict_test_idx  = get_conflicting_indices(test_data)\n",
    "\n",
    "solo_una_train = len(train_data) - len(conflict_train_idx)\n",
    "#solo_una_valid = len(valid_data) - len(conflict_valid_idx)\n",
    "solo_una_test  = len(test_data) - len(conflict_test_idx)\n",
    "\n",
    "\n",
    "print(\"\\nCONTEO DE REGISTROS EKMAN:\")\n",
    "print(\"Train - Solo una categoría:\", solo_una_train, \"| Más de una:\", len(conflict_train_idx))\n",
    "#print(\"Valid - Solo una categoría:\", solo_una_valid, \"| Más de una:\", len(conflict_valid_idx))\n",
    "print(\"Test  - Solo una categoría:\", solo_una_test,  \"| Más de una:\", len(conflict_test_idx))"
   ]
  },
  {
   "cell_type": "code",
   "execution_count": 2,
   "id": "39031894",
   "metadata": {},
   "outputs": [
    {
     "name": "stdout",
     "output_type": "stream",
     "text": [
      "\n",
      "Archivos binarizados y guardados correctamente con emociones de Ekman.\n"
     ]
    }
   ],
   "source": [
    "# ELIMINAR REGISTROS CON MÁS DE UNA CATEGORÍA EKMAN\n",
    "train_data_clean = train_data.drop(index=conflict_train_idx).reset_index(drop=True)\n",
    "#valid_data_clean = valid_data.drop(index=conflict_valid_idx).reset_index(drop=True)\n",
    "test_data_clean  = test_data.drop(index=conflict_test_idx).reset_index(drop=True)\n",
    "\n",
    "# BINARIZACIÓN MULTILABEL (EKMAN)\n",
    "mlb = MultiLabelBinarizer(classes=ekman_labels)\n",
    "train_ekman = pd.DataFrame(mlb.fit_transform(train_data_clean[\"Ekman\"]), columns=mlb.classes_)\n",
    "#valid_ekman = pd.DataFrame(mlb.transform(valid_data_clean[\"Ekman\"]), columns=mlb.classes_)\n",
    "test_ekman  = pd.DataFrame(mlb.transform(test_data_clean[\"Ekman\"]),  columns=mlb.classes_)\n",
    "\n",
    "# COMBINAR Y GUARDAR \n",
    "train_final = pd.concat([train_data_clean[[\"Text\", \"ID\"]], train_ekman], axis=1)\n",
    "#valid_final = pd.concat([valid_data_clean[[\"Text\", \"ID\"]], valid_ekman], axis=1)\n",
    "test_final  = pd.concat([test_data_clean[[\"Text\", \"ID\"]], test_ekman], axis=1)\n",
    "\n",
    "train_final.to_csv(\"../Data/BasedOnEkman/train_ekman_bin.csv\", index=False)\n",
    "#valid_final.to_csv(\"../Data/BasedOnEkman/valid_ekman_bin.csv\", index=False)\n",
    "test_final.to_csv(\"../Data/BasedOnEkman/test_ekman_bin.csv\", index=False)\n",
    "\n",
    "print(\"\\nArchivos binarizados y guardados correctamente con emociones de Ekman.\")"
   ]
  }
 ],
 "metadata": {
  "kernelspec": {
   "display_name": "base",
   "language": "python",
   "name": "python3"
  },
  "language_info": {
   "codemirror_mode": {
    "name": "ipython",
    "version": 3
   },
   "file_extension": ".py",
   "mimetype": "text/x-python",
   "name": "python",
   "nbconvert_exporter": "python",
   "pygments_lexer": "ipython3",
   "version": "3.12.7"
  }
 },
 "nbformat": 4,
 "nbformat_minor": 5
}
