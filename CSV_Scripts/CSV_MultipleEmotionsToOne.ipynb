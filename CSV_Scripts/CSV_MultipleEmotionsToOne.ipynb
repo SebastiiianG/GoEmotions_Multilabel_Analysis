{
 "cells": [
  {
   "cell_type": "code",
   "execution_count": 2,
   "id": "328cf2d2",
   "metadata": {},
   "outputs": [
    {
     "name": "stdout",
     "output_type": "stream",
     "text": [
      "Archivos guardados correctamente.\n"
     ]
    }
   ],
   "source": [
    "#El objetivo de este script es generar dos CSV, uno para entrenamiento y otro para testeo.\n",
    "#El CSV de entrenamiento contendrá solo los registros que tienen una sola categoría de emoción pero del conjunto train\n",
    "#El CSV de testeo contendrá los registros que tienen más de una categoría de emoción en el conjunto train y test\n",
    "import pandas as pd\n",
    "\n",
    "# Carga de datos\n",
    "train_data = pd.read_csv(\"../Data/Chi2/train_2000_chi2.csv\")\n",
    "valid_data = pd.read_csv(\"../Data/valid_indexado.csv\")\n",
    "test_data = pd.read_csv(\"../Data/test_indexado.csv\")\n",
    "\n",
    "with open(\"../Data/GoEmotions/emotions.txt\", \"r\") as f:\n",
    "    emotion_list = f.read().splitlines()\n",
    "\n",
    "emotion_to_id = {emotion: idx for idx, emotion in enumerate(emotion_list)}\n",
    "\n",
    "# Función para extraer emociones activas de cada fila\n",
    "def get_sentiment_emotions(row):\n",
    "    return [emotion for emotion in row.index if row[emotion] == 1 and emotion in emotion_list]\n",
    "\n",
    "# Aplicar la función a los datos\n",
    "train_data[\"Emotions\"] = train_data.apply(get_sentiment_emotions, axis=1)\n",
    "valid_data[\"Emotions\"] = valid_data.apply(get_sentiment_emotions, axis=1)\n",
    "test_data[\"Emotions\"]  = test_data.apply(get_sentiment_emotions, axis=1)\n",
    "\n",
    "# Función para obtener índices conflictivos\n",
    "def get_conflicting_indices(df):\n",
    "    return [i for i, s in enumerate(df[\"Emotions\"]) if len(s) > 1]\n",
    "# Aplicar la función para obtener índices conflictivos\n",
    "\n",
    "conflict_train_idx = get_conflicting_indices(train_data)\n",
    "conflict_valid_idx = get_conflicting_indices(valid_data)\n",
    "conflict_test_idx  = get_conflicting_indices(test_data)\n",
    "\n",
    "\n",
    "#Append de los indices conflictivos para crear el CSV de testeo\n",
    "conflict_idx = conflict_train_idx + conflict_valid_idx + conflict_test_idx\n",
    "#El CSV de testeo contendrá los registros que tienen más de una categoría de emoción en el conjunto train y test\n",
    "\n",
    "train_clean = train_data.drop(index=conflict_train_idx).reset_index(drop=True)\n",
    "\n",
    "# Construir el conjunto de test a partir de los registros conflictivos\n",
    "test_conflicts = pd.concat([train_data.loc[conflict_train_idx], test_data.loc[conflict_test_idx]]).reset_index(drop=True)\n",
    "\n",
    "\n",
    "# Obtener siempre la primera emoción y su ID correspondiente (Del documento Emotins.txt)\n",
    "def extract_first_sentiment_id(row):\n",
    "    if row[\"Emotions\"]:\n",
    "        return emotion_to_id[row[\"Emotions\"][0]]\n",
    "    return None\n",
    "\n",
    "train_clean[\"Emotion\"] = train_clean.apply(extract_first_sentiment_id, axis=1)\n",
    "test_conflicts[\"Emotion\"] = test_conflicts.apply(extract_first_sentiment_id, axis=1)\n",
    "\n",
    "# Guardar ambos archivos\n",
    "train_clean[[\"Text\", \"Emotion\", \"ID\"]].to_csv(\"../Data/OnlyOneEmotion/train_emotions.csv\", index=False)\n",
    "test_conflicts[[\"Text\", \"Emotion\", \"ID\"]].to_csv(\"../Data/OnlyOneEmotion/test_emotions.csv\", index=False)\n",
    "\n",
    "print(\"Archivos guardados correctamente.\")\n",
    "\n"
   ]
  }
 ],
 "metadata": {
  "kernelspec": {
   "display_name": "base",
   "language": "python",
   "name": "python3"
  },
  "language_info": {
   "codemirror_mode": {
    "name": "ipython",
    "version": 3
   },
   "file_extension": ".py",
   "mimetype": "text/x-python",
   "name": "python",
   "nbconvert_exporter": "python",
   "pygments_lexer": "ipython3",
   "version": "3.12.7"
  }
 },
 "nbformat": 4,
 "nbformat_minor": 5
}
