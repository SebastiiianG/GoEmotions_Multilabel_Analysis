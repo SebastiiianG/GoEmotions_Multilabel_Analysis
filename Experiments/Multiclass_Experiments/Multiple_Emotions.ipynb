{
 "cells": [
  {
   "cell_type": "code",
   "execution_count": 1,
   "id": "cdccbec3",
   "metadata": {},
   "outputs": [
    {
     "name": "stdout",
     "output_type": "stream",
     "text": [
      "Validación:\n",
      "              precision    recall  f1-score   support\n",
      "\n",
      "           0       0.62      0.61      0.62       548\n",
      "           1       0.65      0.85      0.74       333\n",
      "           2       0.51      0.42      0.46       207\n",
      "           3       0.32      0.12      0.17       292\n",
      "           4       0.53      0.10      0.17       373\n",
      "           5       0.45      0.12      0.19       120\n",
      "           6       0.67      0.07      0.13       169\n",
      "           7       0.62      0.08      0.14       303\n",
      "           8       0.63      0.40      0.48        81\n",
      "           9       0.63      0.11      0.19       149\n",
      "          10       0.33      0.03      0.05       294\n",
      "          11       0.46      0.36      0.40       107\n",
      "          12       0.42      0.31      0.36        35\n",
      "          13       0.42      0.12      0.18        93\n",
      "          14       0.46      0.59      0.52        92\n",
      "          15       0.92      0.92      0.92       383\n",
      "          16       0.00      0.00      0.00         2\n",
      "          17       0.49      0.45      0.47       164\n",
      "          18       0.72      0.75      0.74       290\n",
      "          19       0.75      0.20      0.32        15\n",
      "          20       0.66      0.53      0.59       183\n",
      "          21       1.00      0.12      0.22         8\n",
      "          22       0.32      0.08      0.13       101\n",
      "          23       0.00      0.00      0.00        23\n",
      "          24       0.48      0.76      0.59        62\n",
      "          25       0.69      0.33      0.44       172\n",
      "          26       0.50      0.50      0.50       137\n",
      "          27       0.52      0.86      0.65      2526\n",
      "\n",
      "    accuracy                           0.56      7262\n",
      "   macro avg       0.53      0.35      0.37      7262\n",
      "weighted avg       0.56      0.56      0.50      7262\n",
      "\n"
     ]
    }
   ],
   "source": [
    "#El objetivo de este experimento es tomar los registros que tienen solo una categoría de emoción y usarlos como datos de entrenamiento para un clasificador de sentimientos.\n",
    "#Los registros que tienen más de una categoría se utilizarán para el testing y que así se determine una emoción dominante.\n",
    "\n",
    "import pandas as pd\n",
    "from sklearn.feature_extraction.text import TfidfVectorizer\n",
    "from sklearn.linear_model import LogisticRegression\n",
    "from sklearn.svm import SVC\n",
    "from sklearn.tree import DecisionTreeClassifier\n",
    "from sklearn.metrics import accuracy_score, classification_report\n",
    "from sklearn.model_selection import train_test_split\n",
    "\n",
    "\n",
    "#Carga de datos\n",
    "train_data = pd.read_csv(\"../../Data/OnlyOneEmotion/train_emotions.csv\")\n",
    "test_data = pd.read_csv(\"../../Data/OnlyOneEmotion/test_emotions.csv\")\n",
    "\n",
    "#Llenar los Textos vacíos con un espacio\n",
    "train_data['Text'] = train_data['Text'].fillna(\" \")\n",
    "test_data['Text'] = test_data['Text'].fillna(\" \")\n",
    "\n",
    "#Hacer un split de train_data para obtener un conjunto de validación\n",
    "train, valid = train_test_split(train_data, test_size=0.2, random_state=42)\n",
    "\n",
    "#Vectorizar los textos\n",
    "vectorizer = TfidfVectorizer()\n",
    "X_train = vectorizer.fit_transform(train['Text'])\n",
    "X_valid = vectorizer.transform(valid['Text'])\n",
    "X_test = vectorizer.transform(test_data['Text'])\n",
    "\n",
    "y_train = train['Emotion']\n",
    "y_valid = valid['Emotion']\n",
    "y_test = test_data['Emotion']\n",
    "\n",
    "# Modelo (ejemplo con SVM)\n",
    "clf = SVC(kernel='linear')\n",
    "clf.fit(X_train, y_train)\n",
    "\n",
    "# Validación\n",
    "y_pred_valid = clf.predict(X_valid)\n",
    "print(\"Validación:\")\n",
    "print(classification_report(y_valid, y_pred_valid, zero_division=0))\n"
   ]
  },
  {
   "cell_type": "code",
   "execution_count": 2,
   "id": "80ab0b39",
   "metadata": {},
   "outputs": [
    {
     "name": "stdout",
     "output_type": "stream",
     "text": [
      "Emotion\n",
      "27    10297\n",
      "0      2162\n",
      "4      1500\n",
      "15     1474\n",
      "1      1319\n",
      "3      1159\n",
      "18     1137\n",
      "10     1108\n",
      "7      1086\n",
      "2       818\n",
      "17      689\n",
      "6       689\n",
      "20      678\n",
      "25      645\n",
      "26      583\n",
      "9       560\n",
      "5       529\n",
      "22      485\n",
      "13      417\n",
      "11      391\n",
      "14      338\n",
      "8       308\n",
      "24      291\n",
      "12      168\n",
      "19       70\n",
      "23       65\n",
      "21       43\n",
      "16       37\n",
      "Name: count, dtype: int64\n"
     ]
    }
   ],
   "source": [
    "\n",
    "#Contar las emociones en el conjunto de entrenamiento\n",
    "print(train['Emotion'].value_counts())"
   ]
  },
  {
   "cell_type": "markdown",
   "id": "d00c6553",
   "metadata": {},
   "source": [
    "Primero tengo que aplicar el train sobre el test de una sola emocion\n",
    "Después de eso, el mejor modelo echarlo a andar con aquellos subrreddits que tienen más de una emoción.\n",
    "Una vez clasificados, añadir este dataset al train y volverlo a echar a andar con el test para ver si sigue funcionando"
   ]
  },
  {
   "cell_type": "code",
   "execution_count": null,
   "id": "28f81762",
   "metadata": {},
   "outputs": [],
   "source": [
    "\n",
    "import matplotlib.pyplot as plt\n",
    "import seaborn as sns\n",
    "from sklearn.metrics import confusion_matrix"
   ]
  }
 ],
 "metadata": {
  "kernelspec": {
   "display_name": "base",
   "language": "python",
   "name": "python3"
  },
  "language_info": {
   "codemirror_mode": {
    "name": "ipython",
    "version": 3
   },
   "file_extension": ".py",
   "mimetype": "text/x-python",
   "name": "python",
   "nbconvert_exporter": "python",
   "pygments_lexer": "ipython3",
   "version": "3.12.7"
  }
 },
 "nbformat": 4,
 "nbformat_minor": 5
}
