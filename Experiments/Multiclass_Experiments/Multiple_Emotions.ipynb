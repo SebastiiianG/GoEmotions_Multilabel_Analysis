{
 "cells": [
  {
   "cell_type": "code",
   "execution_count": null,
   "id": "cdccbec3",
   "metadata": {},
   "outputs": [],
   "source": [
    "#El objetivo de este experimento es tomar los registros que tienen solo una categoría de emoción y usarlos como datos de entrenamiento para un clasificador de sentimientos.\n",
    "#Los registros que tienen más de una categoría se utilizarán para el testing y que así se determine una emoción dominante.\n",
    "\n",
    "import pandas as pd\n",
    "from sklearn.feature_extraction.text import TfidfVectorizer\n",
    "from sklearn.linear_model import LogisticRegression\n",
    "from sklearn.svm import SVC\n",
    "from sklearn.tree import DecisionTreeClassifier\n",
    "from sklearn.metrics import accuracy_score, classification_report\n",
    "from sklearn.model_selection import train_test_split\n",
    "\n",
    "\n",
    "#Carga de datos\n",
    "train_data = pd.read_csv(\"../../Data/OnlyOneEmotion/train_emotions.csv\")\n",
    "test_data = pd.read_csv(\"../../Data/OnlyOneEmotion/test_emotions.csv\")\n",
    "\n",
    "#Conteo de datos\n",
    "print(\"Datos de entrenamiento:\")\n",
    "print(train_data['Emotion'].value_counts())\n",
    "print(\"\\nDatos de prueba:\")\n",
    "print(test_data['Emotion'].value_counts())\n",
    "\n",
    "#Hacer un split de train_data para obtener un conjunto de validación\n",
    "train, valid = train_test_split(train_data, test_size=0.2, random_state=42)\n",
    "\n",
    "#Vectorizar los textos\n",
    "vectorizer = TfidfVectorizer(max_features=5000, lowercase=True, strip_accents='unicode')\n",
    "X_train = vectorizer.fit_transform(train['Text'])\n",
    "X_valid = vectorizer.transform(valid['Text'])\n",
    "X_test = vectorizer.transform(test_data['Text'])\n",
    "\n",
    "y_train = train['Emotion']\n",
    "y_valid = valid['Emotion']\n",
    "y_test = test_data['Emotion']\n",
    "\n",
    "# Modelo (ejemplo con SVM)\n",
    "clf = SVC(kernel='linear')\n",
    "clf.fit(X_train, y_train)\n",
    "\n",
    "# Validación\n",
    "y_pred_valid = clf.predict(X_valid)\n",
    "print(\"Validación:\")\n",
    "print(classification_report(y_valid, y_pred_valid, zero_division=0))\n",
    "\n",
    "# Test\n",
    "y_pred_test = clf.predict(X_test)\n",
    "print(\"Test:\")\n",
    "print(classification_report(y_test, y_pred_test, zero_division=0))\n",
    "\n",
    "\n"
   ]
  },
  {
   "cell_type": "markdown",
   "id": "d00c6553",
   "metadata": {},
   "source": [
    "Primero tengo que aplicar el train sobre el test de una sola emocion\n",
    "Después de eso, el mejor modelo echarlo a andar con aquellos subrreddits que tienen más de una emoción.\n",
    "Una vez clasificados, añadir este dataset al train y volverlo a echar a andar con el test para ver si sigue funcionando"
   ]
  },
  {
   "cell_type": "code",
   "execution_count": 4,
   "id": "28f81762",
   "metadata": {},
   "outputs": [],
   "source": [
    "\n",
    "import matplotlib.pyplot as plt\n",
    "import seaborn as sns\n",
    "from sklearn.metrics import confusion_matrix"
   ]
  }
 ],
 "metadata": {
  "kernelspec": {
   "display_name": "base",
   "language": "python",
   "name": "python3"
  },
  "language_info": {
   "codemirror_mode": {
    "name": "ipython",
    "version": 3
   },
   "file_extension": ".py",
   "mimetype": "text/x-python",
   "name": "python",
   "nbconvert_exporter": "python",
   "pygments_lexer": "ipython3",
   "version": "3.12.7"
  }
 },
 "nbformat": 4,
 "nbformat_minor": 5
}
