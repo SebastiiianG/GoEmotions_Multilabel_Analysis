{
 "cells": [
  {
   "cell_type": "code",
   "execution_count": null,
   "id": "7c6299aa",
   "metadata": {},
   "outputs": [],
   "source": [
    "\n",
    "import pandas as pd\n",
    "import nltk\n",
    "import re\n",
    "from nltk.stem import WordNetLemmatizer\n",
    "from sklearn.feature_extraction.text import TfidfVectorizer\n",
    "from sklearn.linear_model import LogisticRegression\n",
    "from sklearn.svm import SVC\n",
    "from sklearn.tree import DecisionTreeClassifier\n",
    "from sklearn.metrics import accuracy_score, classification_report\n",
    "\n",
    "# ***** CARGA DE DATOS *****\n",
    "train_data = pd.read_csv(\"../../Data/BasedOnSentiments/train_sentiments.csv\")\n",
    "test_data = pd.read_csv(\"../../Data/BasedOnSentiments/test_sentiments.csv\")\n",
    "\n",
    "#LLenar los valores NaN con una cadena vacía\n",
    "train_data['Text'] = train_data['Text'].fillna(\" \")\n",
    "\n",
    "# --- PREPROCESAMIENTO PARA LEMATIZACIÓN ---\n",
    "#nltk.download('punkt')\n",
    "#nltk.download('wordnet')\n",
    "lemmatizer = WordNetLemmatizer()\n",
    "\n",
    "def preprocess_text(text):\n",
    "    words = re.findall(r'\\b\\w+\\b', text.lower())\n",
    "    lemmatized_words = [lemmatizer.lemmatize(word) for word in words]\n",
    "    return \" \".join(lemmatized_words)\n",
    "\n",
    "# Datos\n",
    "X_train_raw = train_data['Text'].values\n",
    "X_test_raw = test_data['Text'].values\n",
    "y_train = train_data['Sentiment'].values\n",
    "y_test = test_data['Sentiment'].values\n",
    "\n",
    "# Datos lematizados\n",
    "X_train_lem = [preprocess_text(text) for text in X_train_raw]\n",
    "X_test_lem = [preprocess_text(text) for text in X_test_raw]"
   ]
  },
  {
   "cell_type": "code",
   "execution_count": null,
   "id": "129d6366",
   "metadata": {},
   "outputs": [],
   "source": [
    "# --- DIRECTORIO DE SALIDA DE LOS PLOTS ---\n",
    "output_dir = \"../../Plots/Experiment_Multiclass/Sentiments/\"\n",
    "\n",
    "import matplotlib.pyplot as plt\n",
    "import seaborn as sns\n",
    "from sklearn.metrics import confusion_matrix\n",
    "\n",
    "# Función para graficar matriz de confusión\n",
    "def plot_confusion_matrix(y_true, y_pred, labels, title):\n",
    "    cm = confusion_matrix(y_true, y_pred, labels=list(range(len(labels))))\n",
    "\n",
    "    plt.figure(figsize=(10, 8))\n",
    "    sns.heatmap(\n",
    "        cm,\n",
    "        annot=True,\n",
    "        fmt=\"d\",\n",
    "        cmap=\"Blues\", \n",
    "        xticklabels=labels,\n",
    "        yticklabels=labels,\n",
    "        cbar=True\n",
    "    )\n",
    "    plt.title(f'Matriz de Confusión - {title}')\n",
    "    plt.ylabel('Etiqueta Verdadera')\n",
    "    plt.xlabel('Etiqueta Predicha')\n",
    "    plt.xticks(rotation=45)\n",
    "    plt.yticks(rotation=0)\n",
    "    plt.tight_layout()\n",
    "    # Guardar archivo\n",
    "    filename = title.replace(\" \", \"_\").replace(\"(\", \"\").replace(\")\", \"\").lower() + \".png\"\n",
    "    plt.savefig(output_dir + filename)\n",
    "    plt.close()"
   ]
  },
  {
   "cell_type": "code",
   "execution_count": null,
   "id": "572b1cf0",
   "metadata": {},
   "outputs": [],
   "source": [
    "# --- FUNCION GENERAL PARA COMPARAR ---\n",
    "def train_and_evaluate(model, X_train, y_train, X_test, y_test, label):\n",
    "    model.fit(X_train, y_train)\n",
    "    y_pred = model.predict(X_test)\n",
    "    acc = accuracy_score(y_test, y_pred)\n",
    "    print(f\"\\n--- {label} ---\")\n",
    "    print(f\"Accuracy: {acc:.4f}\")\n",
    "    print(classification_report(y_test, y_pred))\n",
    "    # Mostrar matriz de confusión\n",
    "    sentiment_labels = [\"Positive\", \"Negative\", \"Ambiguous\", \"Neutral\"]\n",
    "    \n",
    "    plot_confusion_matrix(y_test, y_pred, sentiment_labels, label)"
   ]
  },
  {
   "cell_type": "code",
   "execution_count": null,
   "id": "4b1f57ae",
   "metadata": {},
   "outputs": [],
   "source": [
    "# --- VECTORIZADORES ---\n",
    "vectorizer_raw = TfidfVectorizer()\n",
    "vectorizer_lem = TfidfVectorizer()\n",
    "\n",
    "X_train_raw_tfidf = vectorizer_raw.fit_transform(X_train_raw)\n",
    "X_test_raw_tfidf = vectorizer_raw.transform(X_test_raw)\n",
    "\n",
    "X_train_lem_tfidf = vectorizer_lem.fit_transform(X_train_lem)\n",
    "X_test_lem_tfidf = vectorizer_lem.transform(X_test_lem)"
   ]
  },
  {
   "cell_type": "code",
   "execution_count": null,
   "id": "fbf3d47b",
   "metadata": {},
   "outputs": [],
   "source": [
    "# --- MODELOS ---\n",
    "models = {\n",
    "    'Logistic Regression': LogisticRegression(max_iter=1000),\n",
    "    'SVM (linear)': SVC(kernel='linear', C=1),\n",
    "    'Decision Tree': DecisionTreeClassifier(criterion='entropy')\n",
    "}"
   ]
  },
  {
   "cell_type": "code",
   "execution_count": null,
   "id": "70316ad7",
   "metadata": {},
   "outputs": [],
   "source": [
    "# --- COMPARATIVA FINAL ---\n",
    "print(\"\\n=== SIN LEMATIZAR ===\")\n",
    "for model_name, model in models.items():\n",
    "    train_and_evaluate(model, X_train_raw_tfidf, y_train, X_test_raw_tfidf, y_test, f\"{model_name} (sin lematizar)\")\n",
    "\n",
    "print(\"\\n=== CON LEMATIZAR ===\")\n",
    "for model_name, model in models.items():\n",
    "    train_and_evaluate(model, X_train_lem_tfidf, y_train, X_test_lem_tfidf, y_test, f\"{model_name} (lematizado)\")\n"
   ]
  }
 ],
 "metadata": {
  "language_info": {
   "name": "python"
  }
 },
 "nbformat": 4,
 "nbformat_minor": 5
}
