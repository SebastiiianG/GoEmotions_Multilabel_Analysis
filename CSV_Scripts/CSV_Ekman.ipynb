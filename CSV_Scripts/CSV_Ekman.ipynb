{
 "cells": [
  {
   "cell_type": "code",
   "execution_count": 3,
   "id": "5eeb003a",
   "metadata": {},
   "outputs": [
    {
     "name": "stdout",
     "output_type": "stream",
     "text": [
      "\n",
      "Train:\n",
      "Solo una categoría: 39555\n",
      "Más de una categoría: 3855\n",
      "\n",
      "Validation:\n",
      "Solo una categoría: 4946\n",
      "Más de una categoría: 480\n",
      "\n",
      "Test:\n",
      "Solo una categoría: 4968\n",
      "Más de una categoría: 459\n"
     ]
    }
   ],
   "source": [
    "import pandas as pd\n",
    "import json\n",
    "\n",
    "# CARGA DE DATOS\n",
    "train_data = pd.read_csv(\"../Data/Chi2/train_2000_chi2.csv\")\n",
    "valid_data = pd.read_csv(\"../Data/valid_indexado.csv\")\n",
    "test_data = pd.read_csv(\"../Data/test_indexado.csv\")\n",
    "\n",
    "# CARGA DEL MAPEADO EKMAN\n",
    "with open(\"../Data/GoEmotions/ekman_mapping.json\", \"r\") as f:\n",
    "    ekman_mapping = json.load(f)\n",
    "\n",
    "# Asegurar inclusión de 'neutral'\n",
    "ekman_mapping[\"neutral\"] = [\"neutral\"]\n",
    "reverse_ekman_map = {e: cat for cat, emos in ekman_mapping.items() for e in emos}\n",
    "ekman_labels = list(ekman_mapping.keys())\n",
    "\n",
    "# IDENTIFICAR EMOCIONES ORIGINALES (GoEmotions)\n",
    "emotion_columns = [col for col in train_data.columns if col not in [\"Text\", \"ID\"]]\n",
    "# FUNCIÓN PARA OBTENER EMOCIONES EKMAN POR FILA\n",
    "def get_ekman_emotions(row):\n",
    "    active_ekman = set()\n",
    "    for emo in emotion_columns:\n",
    "        if row[emo] == 1 and emo in reverse_ekman_map:\n",
    "            active_ekman.add(reverse_ekman_map[emo])\n",
    "    return list(active_ekman)\n",
    "\n",
    "# APLICAR FUNCIÓN \n",
    "train_data[\"Ekman\"] = train_data.apply(get_ekman_emotions, axis=1)\n",
    "valid_data[\"Ekman\"] = valid_data.apply(get_ekman_emotions, axis=1)\n",
    "test_data[\"Ekman\"]  = test_data.apply(get_ekman_emotions, axis=1)\n",
    "\n",
    "# FUNCIÓN PARA OBTENER ÍNDICES CONFLICTIVOS\n",
    "def get_conflicting_indices(df):\n",
    "    return [i for i, x in enumerate(df[\"Ekman\"]) if len(x) > 1]\n",
    "\n",
    "# OBTENER Y CONTAR REGISTROS CONFLICTIVOS\n",
    "conflict_train_idx = get_conflicting_indices(train_data)\n",
    "conflict_valid_idx = get_conflicting_indices(valid_data)\n",
    "conflict_test_idx  = get_conflicting_indices(test_data)\n",
    "\n",
    "solo_una_train = len(train_data) - len(conflict_train_idx)\n",
    "solo_una_valid = len(valid_data) - len(conflict_valid_idx)\n",
    "solo_una_test  = len(test_data) - len(conflict_test_idx)\n",
    "\n",
    "print(\"\\nTrain:\")\n",
    "print(\"Solo una categoría:\", solo_una_train)\n",
    "print(\"Más de una categoría:\", len(conflict_train_idx))\n",
    "\n",
    "print(\"\\nValidation:\")\n",
    "print(\"Solo una categoría:\", solo_una_valid)\n",
    "print(\"Más de una categoría:\", len(conflict_valid_idx))\n",
    "\n",
    "print(\"\\nTest:\")\n",
    "print(\"Solo una categoría:\", solo_una_test)\n",
    "print(\"Más de una categoría:\", len(conflict_test_idx))"
   ]
  },
  {
   "cell_type": "code",
   "execution_count": 4,
   "id": "f1cfd451",
   "metadata": {},
   "outputs": [
    {
     "name": "stdout",
     "output_type": "stream",
     "text": [
      "\n",
      "Archivos guardados correctamente.\n"
     ]
    }
   ],
   "source": [
    "# ELIMINAR REGISTROS CON MÁS DE UNA CATEGORÍA EKMAN\n",
    "train_data_clean = train_data.drop(index=conflict_train_idx).reset_index(drop=True)\n",
    "valid_data_clean = valid_data.drop(index=conflict_valid_idx).reset_index(drop=True)\n",
    "test_data_clean  = test_data.drop(index=conflict_test_idx).reset_index(drop=True)\n",
    "\n",
    "\n",
    "ekman_to_id = {label: idx for idx, label in enumerate(ekman_labels)}\n",
    "\n",
    "# Categorización usando Ekman\n",
    "def categorize_emotions(row):\n",
    "    for emotion in row['Ekman']:\n",
    "        if emotion in reverse_ekman_map:\n",
    "            ekman_category = reverse_ekman_map[emotion]\n",
    "            return ekman_to_id[ekman_category]\n",
    "    return len(ekman_labels)  # \"otros\" si no encuentra\n",
    "\n",
    "train_data_clean['Ekman'] = train_data_clean.apply(categorize_emotions, axis=1)\n",
    "valid_data_clean['Ekman'] = valid_data_clean.apply(categorize_emotions, axis=1)\n",
    "test_data_clean['Ekman']  = test_data_clean.apply(categorize_emotions, axis=1)\n",
    "\n",
    "\n",
    "#Cambio de nombre de la columa Ekman a Emotion\n",
    "train_data_clean.rename(columns={\"Ekman\": \"Emotion\"}, inplace=True)\n",
    "valid_data_clean.rename(columns={\"Ekman\": \"Emotion\"}, inplace=True)\n",
    "test_data_clean.rename(columns={\"Ekman\": \"Emotion\"}, inplace=True)\n",
    "\n",
    "# Guardar resultados\n",
    "train_data_clean[['Text', 'Emotion', 'ID']].to_csv('../Data/BasedOnEkman/train_ekman.csv', index=False)\n",
    "valid_data_clean[['Text', 'Emotion', 'ID']].to_csv('../Data/BasedOnEkman/valid_ekman.csv', index=False)\n",
    "test_data_clean[['Text', 'Emotion', 'ID']].to_csv('../Data/BasedOnEkman/test_ekman.csv', index=False)\n",
    "\n",
    "print(\"\\nArchivos guardados correctamente.\")"
   ]
  }
 ],
 "metadata": {
  "kernelspec": {
   "display_name": "base",
   "language": "python",
   "name": "python3"
  },
  "language_info": {
   "codemirror_mode": {
    "name": "ipython",
    "version": 3
   },
   "file_extension": ".py",
   "mimetype": "text/x-python",
   "name": "python",
   "nbconvert_exporter": "python",
   "pygments_lexer": "ipython3",
   "version": "3.12.7"
  }
 },
 "nbformat": 4,
 "nbformat_minor": 5
}
